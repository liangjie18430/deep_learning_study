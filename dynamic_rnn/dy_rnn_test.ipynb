{
 "cells": [
  {
   "cell_type": "code",
   "execution_count": 1,
   "metadata": {},
   "outputs": [
    {
     "name": "stderr",
     "output_type": "stream",
     "text": [
      "/Users/admin/anaconda3/envs/py2/lib/python2.7/site-packages/h5py/__init__.py:34: FutureWarning: Conversion of the second argument of issubdtype from `float` to `np.floating` is deprecated. In future, it will be treated as `np.float64 == np.dtype(float).type`.\n",
      "  from ._conv import register_converters as _register_converters\n"
     ]
    }
   ],
   "source": [
    "#wet_site:https://blog.csdn.net/u010223750/article/details/71079036\n",
    "from __future__ import print_function\n",
    "import numpy as np\n",
    "import tensorflow as tf\n",
    "tf.reset_default_graph()\n",
    "sess = tf.InteractiveSession()"
   ]
  },
  {
   "cell_type": "code",
   "execution_count": 2,
   "metadata": {},
   "outputs": [
    {
     "name": "stdout",
     "output_type": "stream",
     "text": [
      "(3, 11, 8)\n"
     ]
    }
   ],
   "source": [
    "#8代表输入层单元的个数，第一个表示batch_size，第二个参数是time_step\n",
    "embedding_size=8\n",
    "batch_size = 3\n",
    "time_step = 11\n",
    "#定义隐藏层单元的个数，隐藏层单元个数自行定义\n",
    "hidden_units = 24\n",
    "X = np.random.randn(batch_size,time_step,embedding_size)\n",
    "print(np.shape(X))\n"
   ]
  },
  {
   "cell_type": "code",
   "execution_count": 3,
   "metadata": {},
   "outputs": [],
   "source": [
    "#X[1]代表获取第二个样本，将6以后的词的向量全部变为0，即单词向量为0\n",
    "second_sample_size = 6\n",
    "third_sample_size = 7\n",
    "X[1,second_sample_size:]=0\n",
    "X[1,third_sample_size:]=0\n",
    "X_lengths=[time_step,second_sample_size,third_sample_size]\n",
    "#定义一个占位符用于输入,为batch_size,max_timestep,embedding_size)\n",
    "input_x = tf.placeholder(shape=(None,None,embedding_size),dtype=tf.float64,name=\"input_x\")"
   ]
  },
  {
   "cell_type": "code",
   "execution_count": 4,
   "metadata": {},
   "outputs": [],
   "source": [
    "#构建RNN网络\n",
    "import tensorflow as tf\n",
    "\n",
    "#可以debug进入源码，查看源码中如何获取time_step\n",
    "lstm = tf.nn.rnn_cell.LSTMCell(num_units=hidden_units, state_is_tuple=True)\n",
    "#LSTMCell无法构造相应的输入，构造输入需要dy_rnn,这里貌似不再需要指定时间步\n",
    "#该网络会有一个输入和最后时间步的状态输出。不使用占位符也可以，可以直接传入数据\n",
    "dy_rnn_outputs,final_state = tf.nn.dynamic_rnn(lstm,inputs=X,dtype=tf.float64,scope=\"test2\")\n",
    "#该网络没有定义y的值\n",
    "#del dy_rnn_outputs"
   ]
  },
  {
   "cell_type": "code",
   "execution_count": 5,
   "metadata": {},
   "outputs": [
    {
     "data": {
      "text/plain": [
       "LSTMStateTuple(c=<tf.Tensor 'test2/while/Exit_3:0' shape=(3, 24) dtype=float64>, h=<tf.Tensor 'test2/while/Exit_4:0' shape=(3, 24) dtype=float64>)"
      ]
     },
     "execution_count": 5,
     "metadata": {},
     "output_type": "execute_result"
    }
   ],
   "source": [
    "#state的第二个参数包含有h和c，所以shape肯定是[batch_size,hiddent_units]，其中根据rnn_cell的种类不同，\n",
    "#带有h和c输出的shape运行后的结果会为[2,batch_size,hidden_units].\n",
    "final_state"
   ]
  },
  {
   "cell_type": "code",
   "execution_count": 6,
   "metadata": {},
   "outputs": [],
   "source": [
    "\n",
    "decoder_logits = tf.contrib.layers.linear(dy_rnn_outputs, 3)\n",
    "#在运行前先进行初始化\n",
    "init = tf.global_variables_initializer()\n",
    "sess.run(init)\n",
    "#logits_result = sess.run(decoder_logits)\n",
    "#logits_result"
   ]
  },
  {
   "cell_type": "code",
   "execution_count": 7,
   "metadata": {},
   "outputs": [],
   "source": [
    "final_state_result = sess.run(final_state)\n",
    "dy_rnn_outputs_result = sess.run(dy_rnn_outputs)"
   ]
  },
  {
   "cell_type": "code",
   "execution_count": 8,
   "metadata": {},
   "outputs": [
    {
     "name": "stderr",
     "output_type": "stream",
     "text": [
      "/Users/admin/anaconda3/envs/py2/lib/python2.7/site-packages/ipykernel_launcher.py:1: DeprecationWarning: elementwise == comparison failed; this will raise an error in the future.\n",
      "  \"\"\"Entry point for launching an IPython kernel.\n"
     ]
    },
    {
     "data": {
      "text/plain": [
       "False"
      ]
     },
     "execution_count": 8,
     "metadata": {},
     "output_type": "execute_result"
    }
   ],
   "source": [
    "final_state_result[-1]==dy_rnn_outputs_result"
   ]
  },
  {
   "cell_type": "code",
   "execution_count": 9,
   "metadata": {},
   "outputs": [
    {
     "name": "stdout",
     "output_type": "stream",
     "text": [
      "(2, 3, 24)\n",
      "(3, 11, 24)\n"
     ]
    }
   ],
   "source": [
    "#会有俩个输出，h和c，shape中的第一位肯定是2，代表h的输出和c的输出\n",
    "print(np.shape(final_state_result))\n",
    "#[batch_size,times_step,hidden_units]\n",
    "print(np.shape(dy_rnn_outputs_result))"
   ]
  },
  {
   "cell_type": "code",
   "execution_count": 10,
   "metadata": {},
   "outputs": [
    {
     "name": "stdout",
     "output_type": "stream",
     "text": [
      "h.shape: (3, 24)\n",
      "c.shape: (3, 24)\n",
      "True\n"
     ]
    }
   ],
   "source": [
    "print(\"h.shape:\",np.shape(final_state_result.h))\n",
    "print(\"c.shape:\",np.shape(final_state_result.c))\n",
    "print((final_state_result[0]==final_state_result.c).all())"
   ]
  },
  {
   "cell_type": "code",
   "execution_count": null,
   "metadata": {
    "collapsed": true
   },
   "outputs": [],
   "source": []
  }
 ],
 "metadata": {
  "kernelspec": {
   "display_name": "Python 2",
   "language": "python",
   "name": "python2"
  },
  "language_info": {
   "codemirror_mode": {
    "name": "ipython",
    "version": 2
   },
   "file_extension": ".py",
   "mimetype": "text/x-python",
   "name": "python",
   "nbconvert_exporter": "python",
   "pygments_lexer": "ipython2",
   "version": "2.7.14"
  }
 },
 "nbformat": 4,
 "nbformat_minor": 2
}
